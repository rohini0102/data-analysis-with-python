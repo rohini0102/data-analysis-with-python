{
  "nbformat": 4,
  "nbformat_minor": 0,
  "metadata": {
    "colab": {
      "provenance": []
    },
    "kernelspec": {
      "name": "python3",
      "display_name": "Python 3"
    },
    "language_info": {
      "name": "python"
    }
  },
  "cells": [
    {
      "cell_type": "code",
      "source": [
        "import requests"
      ],
      "metadata": {
        "id": "oSPvHOgLR2he"
      },
      "execution_count": null,
      "outputs": []
    },
    {
      "cell_type": "code",
      "source": [
        "api_key=\"dee01944e4d14af999f53707242802\"\n",
        "city='Guntur'\n",
        "url=f\"http://api.weatherapi.com/v1/current.json?key={api_key}&q={city}\"\n",
        "\n",
        "response=requests.get(url)\n",
        "data=response.json()\n",
        "data"
      ],
      "metadata": {
        "colab": {
          "base_uri": "https://localhost:8080/"
        },
        "id": "qniI70kjRCWC",
        "outputId": "5a07961a-3045-459c-b272-7083bdbb164e"
      },
      "execution_count": null,
      "outputs": [
        {
          "output_type": "execute_result",
          "data": {
            "text/plain": [
              "{'location': {'name': 'Guntur',\n",
              "  'region': 'Andhra Pradesh',\n",
              "  'country': 'India',\n",
              "  'lat': 16.3,\n",
              "  'lon': 80.45,\n",
              "  'tz_id': 'Asia/Kolkata',\n",
              "  'localtime_epoch': 1709100374,\n",
              "  'localtime': '2024-02-28 11:36'},\n",
              " 'current': {'last_updated_epoch': 1709100000,\n",
              "  'last_updated': '2024-02-28 11:30',\n",
              "  'temp_c': 30.0,\n",
              "  'temp_f': 86.0,\n",
              "  'is_day': 1,\n",
              "  'condition': {'text': 'Partly cloudy',\n",
              "   'icon': '//cdn.weatherapi.com/weather/64x64/day/116.png',\n",
              "   'code': 1003},\n",
              "  'wind_mph': 5.6,\n",
              "  'wind_kph': 9.0,\n",
              "  'wind_degree': 120,\n",
              "  'wind_dir': 'ESE',\n",
              "  'pressure_mb': 1014.0,\n",
              "  'pressure_in': 29.94,\n",
              "  'precip_mm': 0.0,\n",
              "  'precip_in': 0.0,\n",
              "  'humidity': 59,\n",
              "  'cloud': 25,\n",
              "  'feelslike_c': 28.8,\n",
              "  'feelslike_f': 83.9,\n",
              "  'vis_km': 6.0,\n",
              "  'vis_miles': 3.0,\n",
              "  'uv': 8.0,\n",
              "  'gust_mph': 8.5,\n",
              "  'gust_kph': 13.7}}"
            ]
          },
          "metadata": {},
          "execution_count": 18
        }
      ]
    },
    {
      "cell_type": "code",
      "execution_count": null,
      "metadata": {
        "colab": {
          "base_uri": "https://localhost:8080/"
        },
        "id": "R0qsoXezPGLj",
        "outputId": "3b9495ae-8b2d-43a5-df42-6b6d49fb11be"
      },
      "outputs": [
        {
          "output_type": "execute_result",
          "data": {
            "text/plain": [
              "dict"
            ]
          },
          "metadata": {},
          "execution_count": 14
        }
      ],
      "source": [
        "type(data)"
      ]
    },
    {
      "cell_type": "code",
      "source": [
        "print(\"city:\",data[\"location\"][\"name\"])\n",
        "print(\"state:\",data[\"location\"][\"region\"])\n",
        "print(\"country:\",data[\"location\"][\"country\"])\n",
        "print(\"latitude:\",data[\"location\"][\"lat\"])\n",
        "print(\"longitude:\",data[\"location\"][\"lon\"])\n"
      ],
      "metadata": {
        "colab": {
          "base_uri": "https://localhost:8080/"
        },
        "id": "2M6q2PLzTgvf",
        "outputId": "1d981ae7-7b7b-41a4-8533-72d469f97db8"
      },
      "execution_count": null,
      "outputs": [
        {
          "output_type": "stream",
          "name": "stdout",
          "text": [
            "city: Guntur\n",
            "state: Andhra Pradesh\n",
            "country: India\n",
            "latitude: 16.3\n",
            "longitude: 80.45\n"
          ]
        }
      ]
    },
    {
      "cell_type": "code",
      "source": [
        "api_key=\"dee01944e4d14af999f53707242802\"\n",
        "city=input(\"enter city name: \")\n",
        "url=f\"http://api.weatherapi.com/v1/current.json?key={api_key}&q={city}\"\n",
        "response=requests.get(url)\n",
        "data=response.json()\n",
        "data\n",
        "if(response==200):\n",
        "  print(\"no location found\")\n",
        "else:\n",
        "  print(\"City:\",data[\"location\"][\"name\"])\n",
        "  print(\"State:\",data[\"location\"][\"region\"])\n",
        "  print(\"Country:\",data[\"location\"][\"country\"])\n",
        "  print(\"Temperature in celsius:\",data[\"current\"][\"temp_c\"])\n",
        "  print(\"wind speed:\",data[\"current\"][\"wind_mph\"])\n",
        "  print(\"wind direction:\",data[\"current\"][\"wind_dir\"])\n",
        "  print(\"Humidity:\",data[\"current\"][\"humidity\"])\n",
        "  print(\"feels like:\",data[\"current\"][\"feelslike_c\"])\n",
        "  print(\"cloud:\",data[\"current\"][\"cloud\"])"
      ],
      "metadata": {
        "colab": {
          "base_uri": "https://localhost:8080/"
        },
        "id": "HpgmGOyXUyqY",
        "outputId": "21303a0d-0457-4ec5-f26a-25103e217ee0"
      },
      "execution_count": null,
      "outputs": [
        {
          "output_type": "stream",
          "name": "stdout",
          "text": [
            "enter city name: guntur\n",
            "City: Guntur\n",
            "State: Andhra Pradesh\n",
            "Country: India\n",
            "Temperature in celsius: 31.0\n",
            "wind speed: 6.9\n",
            "wind direction: E\n",
            "Humidity: 52\n",
            "feels like: 29.4\n",
            "cloud: 25\n"
          ]
        }
      ]
    }
  ]
}