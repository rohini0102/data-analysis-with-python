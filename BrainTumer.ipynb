{
  "nbformat": 4,
  "nbformat_minor": 0,
  "metadata": {
    "colab": {
      "provenance": []
    },
    "kernelspec": {
      "name": "python3",
      "display_name": "Python 3"
    },
    "language_info": {
      "name": "python"
    }
  },
  "cells": [
    {
      "cell_type": "code",
      "source": [
        "import tensorflow as tf\n",
        "from tensorflow import keras\n",
        "from tensorflow.keras import layers\n",
        "from tensorflow.keras.preprocessing.image import ImageDataGenerator"
      ],
      "metadata": {
        "id": "BPPvwMKujloU"
      },
      "execution_count": null,
      "outputs": []
    },
    {
      "cell_type": "code",
      "source": [
        "#define image size and batch size\n",
        "IMG_SIZE = 224\n",
        "BATCH_SIZE = 32"
      ],
      "metadata": {
        "id": "S4A5v4Rtkxm2"
      },
      "execution_count": null,
      "outputs": []
    },
    {
      "cell_type": "code",
      "source": [
        "#creating training data\n",
        "train_datagen = ImageDataGenerator(rescale=1./255,validation_split=0.2)"
      ],
      "metadata": {
        "id": "LQ7baK__k12o"
      },
      "execution_count": null,
      "outputs": []
    },
    {
      "cell_type": "code",
      "execution_count": null,
      "metadata": {
        "colab": {
          "base_uri": "https://localhost:8080/"
        },
        "id": "6SdXQbLYib2d",
        "outputId": "b698201d-7621-4d58-c855-d1154b7bce9c"
      },
      "outputs": [
        {
          "output_type": "stream",
          "name": "stdout",
          "text": [
            "Found 1201 images belonging to 2 classes.\n"
          ]
        }
      ],
      "source": [
        "#creating training data with above parameters\n",
        "train_generator = train_datagen.flow_from_directory(r'/content/drive/MyDrive/brain tumour/Train',\n",
        "                                                      target_size=(IMG_SIZE, IMG_SIZE),\n",
        "                                                      batch_size=BATCH_SIZE,\n",
        "                                                      class_mode='binary',\n",
        "                                                      subset='training'\n",
        "                                                      )"
      ]
    },
    {
      "cell_type": "code",
      "source": [
        "#creating validation data\n",
        "val_generator = train_datagen.flow_from_directory(r'/content/drive/MyDrive/brain tumour/Train'  ,\n",
        "                                                  target_size=(IMG_SIZE, IMG_SIZE),\n",
        "                                                  batch_size=BATCH_SIZE,\n",
        "                                                  class_mode='binary',\n",
        "                                                  subset='validation')"
      ],
      "metadata": {
        "colab": {
          "base_uri": "https://localhost:8080/"
        },
        "id": "sOhryw7ElniK",
        "outputId": "de8f49a5-daf8-4454-d7a7-13e00bd4ebad"
      },
      "execution_count": null,
      "outputs": [
        {
          "output_type": "stream",
          "name": "stdout",
          "text": [
            "Found 307 images belonging to 2 classes.\n"
          ]
        }
      ]
    },
    {
      "cell_type": "code",
      "source": [
        "#define the model\n",
        "model = keras.Sequential([\n",
        "    layers.Conv2D(32, (3,3), activation='relu', input_shape=(IMG_SIZE, IMG_SIZE,3)),\n",
        "    layers.MaxPooling2D((2,2)),\n",
        "    layers.Conv2D(64, (3,3), activation='relu'),\n",
        "    layers.MaxPooling2D((2,2)),\n",
        "    layers.Conv2D(128, (3,3), activation='relu'),\n",
        "    layers.MaxPooling2D((2,2)),\n",
        "    layers.Flatten(),\n",
        "    layers.Dense(128, activation='relu'),\n",
        "    layers.Dense(1, activation='sigmoid')\n",
        "])"
      ],
      "metadata": {
        "id": "Wfwdp5t1nW36"
      },
      "execution_count": null,
      "outputs": []
    },
    {
      "cell_type": "code",
      "source": [
        "#compiling the model\n",
        "model.compile(optimizer='adam',loss='categorical_crossentropy',metrics=['accuracy'])"
      ],
      "metadata": {
        "id": "UjExum44o2xu"
      },
      "execution_count": null,
      "outputs": []
    },
    {
      "cell_type": "code",
      "source": [
        "#training model\n",
        "model.fit(train_generator,validation_data=val_generator,epochs=5)"
      ],
      "metadata": {
        "colab": {
          "base_uri": "https://localhost:8080/"
        },
        "id": "AvwVWcGPoBpk",
        "outputId": "a7e122cf-04ac-4b34-db90-46a89489fd6d"
      },
      "execution_count": null,
      "outputs": [
        {
          "output_type": "stream",
          "name": "stdout",
          "text": [
            "Epoch 1/5\n"
          ]
        },
        {
          "output_type": "stream",
          "name": "stderr",
          "text": [
            "/usr/local/lib/python3.10/dist-packages/tensorflow/python/util/dispatch.py:1260: SyntaxWarning: In loss categorical_crossentropy, expected y_pred.shape to be (batch_size, num_classes) with num_classes > 1. Received: y_pred.shape=(None, 1). Consider using 'binary_crossentropy' if you only have 2 classes.\n",
            "  return dispatch_target(*args, **kwargs)\n"
          ]
        },
        {
          "output_type": "stream",
          "name": "stdout",
          "text": [
            "38/38 [==============================] - 135s 4s/step - loss: 0.0000e+00 - accuracy: 0.1599 - val_loss: 0.0000e+00 - val_accuracy: 0.0228\n",
            "Epoch 2/5\n",
            "38/38 [==============================] - 132s 3s/step - loss: 0.0000e+00 - accuracy: 8.3264e-04 - val_loss: 0.0000e+00 - val_accuracy: 0.0228\n",
            "Epoch 3/5\n",
            "38/38 [==============================] - 131s 3s/step - loss: 0.0000e+00 - accuracy: 8.3264e-04 - val_loss: 0.0000e+00 - val_accuracy: 0.0228\n",
            "Epoch 4/5\n",
            "38/38 [==============================] - 131s 3s/step - loss: 0.0000e+00 - accuracy: 8.3264e-04 - val_loss: 0.0000e+00 - val_accuracy: 0.0228\n",
            "Epoch 5/5\n",
            "38/38 [==============================] - 129s 3s/step - loss: 0.0000e+00 - accuracy: 8.3264e-04 - val_loss: 0.0000e+00 - val_accuracy: 0.0228\n"
          ]
        },
        {
          "output_type": "execute_result",
          "data": {
            "text/plain": [
              "<keras.src.callbacks.History at 0x7b0ae67a0f40>"
            ]
          },
          "metadata": {},
          "execution_count": 51
        }
      ]
    },
    {
      "cell_type": "code",
      "source": [
        "model.save(\"model.h5\",\"label.txt\")"
      ],
      "metadata": {
        "colab": {
          "base_uri": "https://localhost:8080/"
        },
        "id": "nNb19sJMoikb",
        "outputId": "cb900535-2a74-42fb-eda3-c1c1da9c1057"
      },
      "execution_count": null,
      "outputs": [
        {
          "output_type": "stream",
          "name": "stderr",
          "text": [
            "/usr/local/lib/python3.10/dist-packages/keras/src/engine/training.py:3103: UserWarning: You are saving your model as an HDF5 file via `model.save()`. This file format is considered legacy. We recommend using instead the native Keras format, e.g. `model.save('my_model.keras')`.\n",
            "  saving_api.save_model(\n"
          ]
        }
      ]
    },
    {
      "cell_type": "code",
      "source": [],
      "metadata": {
        "id": "Jlt_37J_ZkPO"
      },
      "execution_count": null,
      "outputs": []
    }
  ]
}