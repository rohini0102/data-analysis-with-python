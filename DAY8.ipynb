{
  "nbformat": 4,
  "nbformat_minor": 0,
  "metadata": {
    "colab": {
      "provenance": []
    },
    "kernelspec": {
      "name": "python3",
      "display_name": "Python 3"
    },
    "language_info": {
      "name": "python"
    }
  },
  "cells": [
    {
      "cell_type": "code",
      "execution_count": null,
      "metadata": {
        "id": "Ld0ixpyHdyNZ"
      },
      "outputs": [],
      "source": [
        "from tensorflow.keras.models import load_model\n",
        "from tensorflow.keras.preprocessing import image\n",
        "import numpy as np"
      ]
    },
    {
      "cell_type": "code",
      "source": [
        "#load the saved model\n",
        "model = load_model(\"/content/model.h5\")\n",
        "model"
      ],
      "metadata": {
        "colab": {
          "base_uri": "https://localhost:8080/"
        },
        "id": "asMG6GbWkl_U",
        "outputId": "b86edd02-f030-4e9e-d387-a5fe367951fd"
      },
      "execution_count": null,
      "outputs": [
        {
          "output_type": "execute_result",
          "data": {
            "text/plain": [
              "<keras.src.engine.sequential.Sequential at 0x7a1808466440>"
            ]
          },
          "metadata": {},
          "execution_count": 6
        }
      ]
    },
    {
      "cell_type": "code",
      "source": [
        "#load and preprocess the test image\n",
        "test_image_path='/content/no1.jpg'\n",
        "img=image.load_img(test_image_path, target_size=(224, 224))\n",
        "img_array=image.img_to_array(img)\n",
        "img_array=np.expand_dims(img_array, axis=0)"
      ],
      "metadata": {
        "id": "VXEteIAdk7nG"
      },
      "execution_count": null,
      "outputs": []
    },
    {
      "cell_type": "code",
      "source": [
        "#add batch dimension\n",
        "img_array /= 255  #normalize the pixel values\n",
        "#make predictions\n",
        "prediction=model.predict(img_array)\n",
        "print(prediction)"
      ],
      "metadata": {
        "colab": {
          "base_uri": "https://localhost:8080/"
        },
        "id": "LJysBhYWnp8C",
        "outputId": "b2526fd8-1d97-4479-d6cb-765de5220d0e"
      },
      "execution_count": null,
      "outputs": [
        {
          "output_type": "stream",
          "name": "stdout",
          "text": [
            "1/1 [==============================] - 0s 86ms/step\n",
            "[[0.]]\n"
          ]
        }
      ]
    },
    {
      "cell_type": "code",
      "source": [
        "if prediction < 0.5:\n",
        "  print(\"prediction:  no tumer(probability: \",prediction[0][0])\n",
        "else:\n",
        "  print(\"prediction:  tumer present (probability: \",prediction[0][0])"
      ],
      "metadata": {
        "colab": {
          "base_uri": "https://localhost:8080/"
        },
        "id": "9xjp6F5Iof-Y",
        "outputId": "20b78759-c620-434f-de3a-737f4361e63f"
      },
      "execution_count": null,
      "outputs": [
        {
          "output_type": "stream",
          "name": "stdout",
          "text": [
            "prediction:  no tumer(probability:  0.0\n"
          ]
        }
      ]
    }
  ]
}